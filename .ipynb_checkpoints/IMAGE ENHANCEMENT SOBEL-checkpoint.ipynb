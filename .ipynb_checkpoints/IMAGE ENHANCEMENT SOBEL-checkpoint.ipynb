{
 "cells": [
  {
   "cell_type": "code",
   "execution_count": null,
   "id": "480c1164-7bb3-47ab-97d6-32337137f82b",
   "metadata": {},
   "outputs": [
    {
     "name": "stdout",
     "output_type": "stream",
     "text": [
      "409600\n"
     ]
    }
   ],
   "source": [
    "import numpy as np\n",
    "import cv2\n",
    "\n",
    "#konvolusi citra\n",
    "def convolutionkernel(img,kernel):\n",
    "    row1total = img[0,1]*kernel[0,1] + img[0,2]*kernel[0,2] + img[0,0]*kernel[0,0]\n",
    "    row2total = 0\n",
    "    row3total = img[2,1]*kernel[2,1] + img[2,2]*kernel[2,2] + img[2,0]*kernel[2,0]\n",
    "    return row1total + row2total + row3total\n",
    "\n",
    "#kernel take\n",
    "def samplingkernel(inpimg,i,j):\n",
    "    image = np.zeros((3,3))\n",
    "    a = i\n",
    "    b = j\n",
    "    for k in range(0,3):\n",
    "        b = j\n",
    "        for l in range(0,3):\n",
    "            image[k,l] = inpimg[a,b]\n",
    "            b = b+1\n",
    "        a = a +1\n",
    "    return image\n",
    "\n",
    "#derivatif X\n",
    "def sobelderivatifX(input_image):\n",
    "    rows = len(input_image)\n",
    "    cols = len(input_image[0])\n",
    "    Gx = np.array(np.mat('1 0 -1; 2 0 -2; 1 0 -1'))\n",
    "    output_image = np.zeros((rows,cols))\n",
    "    for i in range(0,rows-3):\n",
    "         for j in range(0,cols-3):\n",
    "             # retreve the part of image of 3 x 3 dimension from inputimage\n",
    "             image  = samplingkernel (input_image, i, j)\n",
    "             output_image[i,j] = convolutionkernel(image,Gx)\n",
    "    return output_image\n",
    "\n",
    "#derivatif Y\n",
    "def sobelderivatify(input_image):\n",
    "    rows = len(input_image)\n",
    "    cols = len(input_image[0])\n",
    "    #print(rows,cols)\n",
    "    Gy = np.array(np.mat('1 2 1; 0 0 0; -1 -2 -1'))\n",
    "    output_image = np.zeros((rows,cols))\n",
    "    for i in range(0,rows-3):\n",
    "         for j in range(0,cols-3):\n",
    "             # retreve the part of image of 3 x 3 dimension from inputimage\n",
    "             image  = samplingkernel (input_image, i, j)\n",
    "             output_image[i,j] = convolutionkernel(image,Gy)\n",
    "    return output_image\n",
    "\n",
    "\n",
    "\n",
    "#input citra\n",
    "input_image = cv2.imread('data_citra_modul6/Ki_Hadjar_Dewantara.jpg',0);\n",
    "\n",
    "sobelimagex = sobelderivatifX(input_image)\n",
    "sobelimagey = sobelderivatify(input_image)\n",
    "\n",
    "rows = len(input_image)\n",
    "cols = len(input_image[0])\n",
    "\n",
    "output_image = np.zeros([rows, cols])\n",
    "\n",
    "#magnitude gradient\n",
    "for i in range(0,rows):\n",
    "    for j in range(0,cols):\n",
    "        output_image[i,j] = abs(sobelimagex[i, j]) + abs(sobelimagey[i, j])\n",
    "\n",
    "print(output_image.size)\n",
    "\n",
    "cv2.imshow('sobel image',np.uint8(output_image))\n",
    "cv2.imshow('sobel image x',np.uint8(sobelimagex))\n",
    "cv2.imshow('sobel image y',np.uint8(sobelimagey))\n",
    "cv2.waitKey(0)"
   ]
  },
  {
   "cell_type": "code",
   "execution_count": null,
   "id": "777d527f-b4af-4d14-895e-6ba4a51643de",
   "metadata": {},
   "outputs": [],
   "source": [
    "gray = cv2.cvtColor(image, cv2.COLOR_RGB2GRAY)\n",
    "\n",
    "plt.imshow(gray, cmap='gray')"
   ]
  },
  {
   "cell_type": "code",
   "execution_count": null,
   "id": "6c25a3d0-e4df-4c25-a8bc-4abe91452116",
   "metadata": {},
   "outputs": [],
   "source": []
  },
  {
   "cell_type": "code",
   "execution_count": null,
   "id": "bb6b02e5-730b-490c-957e-93c1d4a685bf",
   "metadata": {},
   "outputs": [],
   "source": []
  },
  {
   "cell_type": "code",
   "execution_count": null,
   "id": "c35766f7-186b-4840-b8b2-fb4ac3785c85",
   "metadata": {},
   "outputs": [],
   "source": []
  }
 ],
 "metadata": {
  "kernelspec": {
   "display_name": "Python 3 (ipykernel)",
   "language": "python",
   "name": "python3"
  },
  "language_info": {
   "codemirror_mode": {
    "name": "ipython",
    "version": 3
   },
   "file_extension": ".py",
   "mimetype": "text/x-python",
   "name": "python",
   "nbconvert_exporter": "python",
   "pygments_lexer": "ipython3",
   "version": "3.7.0"
  }
 },
 "nbformat": 4,
 "nbformat_minor": 5
}
