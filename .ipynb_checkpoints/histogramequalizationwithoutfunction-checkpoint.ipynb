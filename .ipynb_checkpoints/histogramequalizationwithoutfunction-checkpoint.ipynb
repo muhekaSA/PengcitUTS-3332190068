{
 "cells": [
  {
   "cell_type": "code",
   "execution_count": null,
   "id": "613f6399-040f-4c7a-8e85-fa6988d72163",
   "metadata": {},
   "outputs": [],
   "source": [
    "\n",
    "from IPython.display import display, Math, Latex\n",
    "\n",
    "import numpy as np\n",
    "import matplotlib.pyplot as plt\n",
    "from PIL import Image\n",
    "\n",
    "img = Image.open('Dataset_modul5/SutanSjahrirLowContrast.jpg')\n",
    "\n",
    "# display the image\n",
    "plt.imshow(img, cmap='gray')"
   ]
  },
  {
   "cell_type": "code",
   "execution_count": null,
   "id": "a10c826a-4f96-4f3e-8124-af9b6c68ecdb",
   "metadata": {},
   "outputs": [],
   "source": [
    "img = np.asarray(img)\n",
    "\n",
    "flat = img.flatten()\n",
    "plt.hist(flat, bins=50)"
   ]
  },
  {
   "cell_type": "code",
   "execution_count": null,
   "id": "101a4f35-43d4-4e69-818b-de4bf0139c39",
   "metadata": {},
   "outputs": [],
   "source": [
    "def myEqualizeHist(image, bins):\n",
    "\n",
    "    histogram = np.zeros(bins)\n",
    "    \n",
    "    for pixel in image:\n",
    "        histogram[pixel] += 1\n",
    "   \n",
    "    return histogram\n",
    "\n",
    "hist = myEqualizeHist(flat, 256)\n",
    "plt.hist(hist)"
   ]
  },
  {
   "cell_type": "code",
   "execution_count": null,
   "id": "ca4bae44-1f59-468c-86e2-c9ccd36025fa",
   "metadata": {},
   "outputs": [],
   "source": [
    "def cumsum(a):\n",
    "    a = iter(a)\n",
    "    b = [next(a)]\n",
    "    for i in a:\n",
    "        b.append(b[-1] + i)\n",
    "    return np.array(b)\n",
    "\n",
    "# execute the fn\n",
    "cs = cumsum(hist)\n",
    "\n",
    "# display the result\n",
    "\n",
    "plt.hist(cs, bins=50)"
   ]
  },
  {
   "cell_type": "code",
   "execution_count": null,
   "id": "b3966fc9-dc8e-46da-a200-56d6b13f3e29",
   "metadata": {},
   "outputs": [],
   "source": [
    "nj = (cs - cs.min()) * 255\n",
    "N = cs.max() - cs.min()\n",
    "\n",
    "# re-normalize the cumsum\n",
    "cs = nj / N\n",
    "\n",
    "# cast it back to uint8 since we can't use floating point values in images\n",
    "cs = cs.astype('uint8')\n",
    "\n",
    "plt.plot(cs)"
   ]
  },
  {
   "cell_type": "code",
   "execution_count": null,
   "id": "cf0696dc-6519-4709-8a0c-be995894d860",
   "metadata": {},
   "outputs": [],
   "source": [
    "plt.hist(cs, bins=50)"
   ]
  },
  {
   "cell_type": "code",
   "execution_count": null,
   "id": "27c48065-7955-4a03-9c58-a20cb94f0a18",
   "metadata": {},
   "outputs": [],
   "source": [
    "plt.hist(flat, bins=50)"
   ]
  },
  {
   "cell_type": "code",
   "execution_count": null,
   "id": "95b90605-8aba-42e0-81d8-610446574074",
   "metadata": {},
   "outputs": [],
   "source": [
    "plt.hist(flat)"
   ]
  },
  {
   "cell_type": "code",
   "execution_count": null,
   "id": "891c3305-9b76-4912-8ef9-baa245074dc7",
   "metadata": {},
   "outputs": [],
   "source": [
    "import numpy as np\n",
    "import cv2\n",
    "\n",
    "path = \"Dataset_modul5/SutanSjahrirLowContrast.jpg\"\n",
    "img = cv2.imread(path,0)\n",
    "\n",
    "#To display image before equalization\n",
    "cv2.imshow('image',img)\n",
    "cv2.waitKey(0)\n",
    "\n",
    "\n"
   ]
  },
  {
   "cell_type": "code",
   "execution_count": 1,
   "id": "b8a2f7ff-f746-4d71-b9b0-4694a1363b4d",
   "metadata": {},
   "outputs": [],
   "source": [
    "import cv2\n",
    "import numpy as np\n",
    "import matplotlib.pyplot as plt\n",
    "   \n",
    "      \n",
    "# function to obtain histogram of an image\n",
    "def myEqualizeHist(img):\n",
    "      \n",
    "    count =[]\n",
    "    r = []\n",
    "    for k in range(0, 256):\n",
    "        r.append(k)\n",
    "        count1 = 0\n",
    "        for i in range(m):\n",
    "            for j in range(n):\n",
    "                if img[i, j]== k:\n",
    "                    count1+= 1\n",
    "        count.append(count1)\n",
    "    return (r, count)\n",
    "img = cv2.imread('Dataset_modul5/SutanSjahrirLowContrast.jpg', 0)\n",
    "m, n = img.shape\n",
    "r1, count1 = myEqualizeHist(img)\n",
    "  \n"
   ]
  },
  {
   "cell_type": "code",
   "execution_count": 8,
   "id": "b6f99390-a86b-4862-8d6e-e83c15e074c8",
   "metadata": {},
   "outputs": [
    {
     "data": {
      "text/plain": [
       "Text(0.5, 1.0, 'Histogram Gambar Asli')"
      ]
     },
     "execution_count": 8,
     "metadata": {},
     "output_type": "execute_result"
    },
    {
     "data": {
      "image/png": "[encoded data removed]",
      "text/plain": [
       "<Figure size 432x288 with 1 Axes>"
      ]
     },
     "metadata": {
      "needs_background": "light"
     },
     "output_type": "display_data"
    }
   ],
   "source": [
    "# plotting the histogram\n",
    "plt.plot(r1, count1)\n",
    "plt.xlabel('Intensitas')\n",
    "plt.ylabel('Pixel Citra')\n",
    "plt.title('Histogram Gambar Asli')\n",
    "   \n"
   ]
  },
  {
   "cell_type": "code",
   "execution_count": 4,
   "id": "15b8f425-1349-4bf5-8837-c4bb46c1d4e2",
   "metadata": {},
   "outputs": [
    {
     "data": {
      "text/plain": [
       "True"
      ]
     },
     "execution_count": 4,
     "metadata": {},
     "output_type": "execute_result"
    }
   ],
   "source": [
    "# Equalize Output\n",
    "constant = (255-0)/(img.max()-img.min())\n",
    "img_stretch = img * constant\n",
    "r, count = myEqualizeHist(img_stretch)\n",
    "cv2.imwrite('Equalize Picture Output.png', img_stretch)  \n"
   ]
  },
  {
   "cell_type": "code",
   "execution_count": null,
   "id": "22b7969d-affd-491d-9ac0-06b614a38415",
   "metadata": {},
   "outputs": [],
   "source": [
    "# plotting the histogram\n",
    "plt.stem(r, count)\n",
    "plt.xlabel('Intensitas')\n",
    "plt.ylabel('Pixel Citra')\n",
    "plt.title('Histogram of the stretched image')\n",
    "   \n",
    "# Storing stretched Image"
   ]
  },
  {
   "cell_type": "code",
   "execution_count": null,
   "id": "6e77d58e-23c0-4de0-bfbf-12411014daa7",
   "metadata": {},
   "outputs": [],
   "source": []
  }
 ],
 "metadata": {
  "kernelspec": {
   "display_name": "Python 3 (ipykernel)",
   "language": "python",
   "name": "python3"
  },
  "language_info": {
   "codemirror_mode": {
    "name": "ipython",
    "version": 3
   },
   "file_extension": ".py",
   "mimetype": "text/x-python",
   "name": "python",
   "nbconvert_exporter": "python",
   "pygments_lexer": "ipython3",
   "version": "3.7.0"
  }
 },
 "nbformat": 4,
 "nbformat_minor": 5
}
