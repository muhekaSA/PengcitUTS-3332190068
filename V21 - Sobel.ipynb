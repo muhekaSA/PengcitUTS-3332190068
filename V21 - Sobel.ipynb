{
 "cells": [
  {
   "cell_type": "code",
   "execution_count": 1,
   "metadata": {},
   "outputs": [],
   "source": [
    "import numpy as np\n",
    "import matplotlib.pyplot as plt\n",
    "import matplotlib.image as mpimg\n",
    "from PIL import Image\n",
    "import cv2\n",
    "\n"
   ]
  },
  {
   "cell_type": "code",
   "execution_count": 2,
   "metadata": {},
   "outputs": [],
   "source": [
    "def Sobel(arr,rstart, cstart,masksize, divisor):\n",
    "  sum = 0;\n",
    "  x = 0\n",
    "  y = 0\n",
    "\n",
    "  for i in range(rstart, rstart+masksize, 1):\n",
    "    x = 0\n",
    "    for j in range(cstart, cstart+masksize, 1):\n",
    "        if x == 0 and y == 0:\n",
    "            p1 = arr[i][j]\n",
    "        if x == 0 and y == 1:\n",
    "            p2 = arr[i][j]\n",
    "        if x == 0 and y == 2:\n",
    "            p3 = arr[i][j]\n",
    "        if x == 1 and y == 0:\n",
    "            p4 = arr[i][j]\n",
    "        if x == 1 and y == 1:\n",
    "            p5 = arr[i][j]           \n",
    "        if x == 1 and y == 2:\n",
    "            p6 = arr[i][j]\n",
    "        if x == 2 and y == 0:\n",
    "            p7 = arr[i][j]\n",
    "        if x == 2 and y == 1:\n",
    "            p8 = arr[i][j]\n",
    "        if x == 2 and y == 2:\n",
    "            p9 = arr[i][j]\n",
    "        x +=1\n",
    "    y +=1\n",
    "  return np.abs((p1 + 2*p2 + p3) - (p7 + 2*p8+p9)) + np.abs((p3 + 2*p6 + p9) - (p1 + 2*p4 +p7)) \n",
    "\n",
    "\n"
   ]
  },
  {
   "cell_type": "code",
   "execution_count": 3,
   "metadata": {},
   "outputs": [],
   "source": [
    "def padwithzeros(vector, pad_width, iaxis, kwargs):\n",
    "   vector[:pad_width[0]] = 0\n",
    "   vector[-pad_width[1]:] = 0\n",
    "   return vector\n",
    "\n",
    "im = Image.open('grayscale-kihajar.jpg')\n",
    "im.show()\n",
    "img = np.asarray(im)\n",
    "img.flags.writeable = True\n",
    "p = 1\n",
    "k = 2\n",
    "m = img.shape[0]\n",
    "n = img.shape[1]\n",
    "masksize = 3\n",
    "img = np.lib.pad(img, p, padwithzeros) #this function padds image with zeros to cater for pixels on the border.\n",
    "x = 0\n",
    "y = 0\n",
    "for row in img:\n",
    "  y = 0\n",
    "  for col in row:\n",
    "    if not (x < p or y < p or y > (n-k) or x > (m-k)):\n",
    "        img[x][y] = Sobel(img, x-p,y-p,masksize,masksize*masksize)\n",
    "    y = y + 1\n",
    "  x = x + 1\n",
    "\n",
    "img2 = Image.fromarray(img)\n",
    "img2.show()\n",
    "cv2.waitKey(0)\n",
    "cv2.destroyAllWindows()"
   ]
  },
  {
   "cell_type": "code",
   "execution_count": null,
   "metadata": {},
   "outputs": [],
   "source": []
  },
  {
   "cell_type": "code",
   "execution_count": null,
   "metadata": {},
   "outputs": [],
   "source": []
  },
  {
   "cell_type": "code",
   "execution_count": 16,
   "metadata": {},
   "outputs": [
    {
     "data": {
      "text/plain": [
       "True"
      ]
     },
     "execution_count": 16,
     "metadata": {},
     "output_type": "execute_result"
    }
   ],
   "source": [
    "# open-cv library is installed as cv2 in python\n",
    "# import cv2 library into this program\n",
    "import cv2\n",
    "\n",
    "# read an image using imread() function of cv2\n",
    "# we have to  pass only the path of the image\n",
    "img = cv2.imread('data_citra_modul6/Ki_Hadjar_Dewantara.jpg')\n",
    "\n",
    "# displaying the image using imshow() function of cv2\n",
    "# In this : 1st argument is name of the frame\n",
    "# 2nd argument is the image matrix\n",
    "cv2.imshow('original image',img)\n",
    "\n",
    "# converting the colourfull image into grayscale image\n",
    "# using cv2.COLOR_BGR2GRAY argument of\n",
    "# the cvtColor() function of cv2\n",
    "# in this :\n",
    "# ist argument is the image matrix\n",
    "# 2nd argument is the attribute\n",
    "gray_img = cv2.cvtColor(img,cv2.COLOR_BGR2GRAY)\n",
    "\n",
    "# save the image at specified location\n",
    "cv2.imwrite('grayscale-kihajar.jpg',gray_img)"
   ]
  },
  {
   "cell_type": "code",
   "execution_count": null,
   "metadata": {},
   "outputs": [],
   "source": []
  }
 ],
 "metadata": {
  "anaconda-cloud": {},
  "kernelspec": {
   "display_name": "Python 3 (ipykernel)",
   "language": "python",
   "name": "python3"
  },
  "language_info": {
   "codemirror_mode": {
    "name": "ipython",
    "version": 3
   },
   "file_extension": ".py",
   "mimetype": "text/x-python",
   "name": "python",
   "nbconvert_exporter": "python",
   "pygments_lexer": "ipython3",
   "version": "3.7.0"
  }
 },
 "nbformat": 4,
 "nbformat_minor": 4
}
